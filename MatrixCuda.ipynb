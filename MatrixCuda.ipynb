{
  "nbformat": 4,
  "nbformat_minor": 0,
  "metadata": {
    "colab": {
      "provenance": []
    },
    "kernelspec": {
      "name": "python3",
      "display_name": "Python 3"
    },
    "language_info": {
      "name": "python"
    }
  },
  "cells": [
    {
      "cell_type": "code",
      "execution_count": 1,
      "metadata": {
        "colab": {
          "base_uri": "https://localhost:8080/"
        },
        "id": "iNaTH_fQ-m7E",
        "outputId": "969cf028-2ecd-4d2d-859e-f5cc7567438e"
      },
      "outputs": [
        {
          "output_type": "stream",
          "name": "stdout",
          "text": [
            "Collecting git+https://github.com/afnan47/cuda.git\n",
            "  Cloning https://github.com/afnan47/cuda.git to /tmp/pip-req-build-6wmldgey\n",
            "  Running command git clone --filter=blob:none --quiet https://github.com/afnan47/cuda.git /tmp/pip-req-build-6wmldgey\n",
            "  Resolved https://github.com/afnan47/cuda.git to commit aac710a35f52bb78ab34d2e52517237941399eff\n",
            "  Preparing metadata (setup.py) ... \u001b[?25l\u001b[?25hdone\n",
            "Building wheels for collected packages: NVCCPlugin\n",
            "  Building wheel for NVCCPlugin (setup.py) ... \u001b[?25l\u001b[?25hdone\n",
            "  Created wheel for NVCCPlugin: filename=NVCCPlugin-0.0.2-py3-none-any.whl size=4290 sha256=c43a4ca6e2b0fc8628a15c1c7e014c90aaa80c91a1ed30ef4491added9eb1f1e\n",
            "  Stored in directory: /tmp/pip-ephem-wheel-cache-tmwnq5t7/wheels/bc/4e/e0/2d86bd15f671dbeb32144013f1159dba09757fde36dc51a963\n",
            "Successfully built NVCCPlugin\n",
            "Installing collected packages: NVCCPlugin\n",
            "Successfully installed NVCCPlugin-0.0.2\n"
          ]
        }
      ],
      "source": [
        "!pip install git+https://github.com/afnan47/cuda.git"
      ]
    },
    {
      "cell_type": "code",
      "source": [
        "%load_ext nvcc_plugin"
      ],
      "metadata": {
        "colab": {
          "base_uri": "https://localhost:8080/"
        },
        "id": "djhA9h01-2FQ",
        "outputId": "0fafbcef-9124-40b5-d2f1-c4ba7268753a"
      },
      "execution_count": 2,
      "outputs": [
        {
          "output_type": "stream",
          "name": "stdout",
          "text": [
            "created output directory at /content/src\n",
            "Out bin /content/result.out\n"
          ]
        }
      ]
    },
    {
      "cell_type": "code",
      "source": [
        "%%writefile matrix.cu\n",
        "#include <iostream>\n",
        "#include <cuda.h>\n",
        "#include <chrono>\n",
        "\n",
        "using namespace std;\n",
        "using namespace std::chrono;\n",
        "\n",
        "\n",
        "__global__ void multiply(int* A, int* B, int* C, int M, int N, int K) {\n",
        "    int row = blockIdx.y * blockDim.y + threadIdx.y;\n",
        "    int col = blockIdx.x * blockDim.x + threadIdx.x;\n",
        "\n",
        "    if (row < M && col < K) {\n",
        "        int sum = 0;\n",
        "        for (int i = 0; i < N; i++) {\n",
        "            sum += A[row * N + i] * B[i * K + col];\n",
        "        }\n",
        "        C[row * K + col] = sum;\n",
        "    }\n",
        "}\n",
        "\n",
        "void initialize(int* matrix, int rows, int cols) {\n",
        "    for (int i = 0; i < rows * cols; i++) {\n",
        "        cout << \"Enter element \" << i + 1 << \": \";\n",
        "        cin >> matrix[i];\n",
        "    }\n",
        "}\n",
        "\n",
        "void print(int* matrix, int rows, int cols) {\n",
        "    for (int row = 0; row < rows; row++) {\n",
        "        for (int col = 0; col < cols; col++) {\n",
        "            cout << matrix[row * cols + col] << \" \";\n",
        "        }\n",
        "        cout << '\\n';\n",
        "    }\n",
        "    cout << '\\n';\n",
        "}\n",
        "\n",
        "void sequentialMultiply(int* A, int* B, int* C, int M, int N, int K) {\n",
        "    for (int i = 0; i < M; i++) {\n",
        "        for (int j = 0; j < K; j++) {\n",
        "            int sum = 0;\n",
        "            for (int k = 0; k < N; k++) {\n",
        "                sum += A[i * N + k] * B[k * K + j];\n",
        "            }\n",
        "            C[i * K + j] = sum;\n",
        "        }\n",
        "    }\n",
        "}\n",
        "\n",
        "int main() {\n",
        "    int M, N, K;\n",
        "    cout << \"Enter the number of rows and columns of the first matrix: \";\n",
        "    cin >> M >> N;\n",
        "    cout << \"Enter the number of columns of the second matrix: \";\n",
        "    cin >> K;\n",
        "\n",
        "    int* A, * B, * C;\n",
        "\n",
        "    int matrixSize = M * K;\n",
        "    size_t matrixBytes = matrixSize * sizeof(int);\n",
        "\n",
        "    A = new int[M * N];\n",
        "    B = new int[N * K];\n",
        "    C = new int[M * K];\n",
        "\n",
        "    initialize(A, M, N);\n",
        "    initialize(B, N, K);\n",
        "\n",
        "    cout << \"Matrix A: \\n\";\n",
        "    print(A, M, N);\n",
        "\n",
        "    cout << \"Matrix B: \\n\";\n",
        "    print(B, N, K);\n",
        "\n",
        "    int* X, * Y, * Z;\n",
        "    cudaMalloc(&X, M * N * sizeof(int));\n",
        "    cudaMalloc(&Y, N * K * sizeof(int));\n",
        "    cudaMalloc(&Z, M * K * sizeof(int));\n",
        "\n",
        "    cudaMemcpy(X, A, M * N * sizeof(int), cudaMemcpyHostToDevice);\n",
        "    cudaMemcpy(Y, B, N * K * sizeof(int), cudaMemcpyHostToDevice);\n",
        "\n",
        "    int THREADS = 16;\n",
        "    int BLOCKS = (M + THREADS - 1) / THREADS;\n",
        "\n",
        "    dim3 threads(THREADS, THREADS);\n",
        "    dim3 blocks(BLOCKS, BLOCKS);\n",
        "\n",
        "    // Sequential multiplication\n",
        "    auto start = high_resolution_clock::now();\n",
        "    sequentialMultiply(A, B, C, M, N, K);\n",
        "    auto stop = high_resolution_clock::now();\n",
        "    auto seq_duration = duration_cast<microseconds>(stop - start);\n",
        "\n",
        "    cout << \"Sequential Multiplication of matrix A and B: \\n\";\n",
        "    print(C, M, K);\n",
        "\n",
        "    // Parallel multiplication\n",
        "    start = high_resolution_clock::now();\n",
        "    multiply<<<blocks, threads>>>(X, Y, Z, M, N, K);\n",
        "    cudaMemcpy(C, Z, M * K * sizeof(int), cudaMemcpyDeviceToHost);\n",
        "    stop = high_resolution_clock::now();\n",
        "    auto par_duration = duration_cast<microseconds>(stop - start);\n",
        "\n",
        "    cout << \"Parallel Multiplication of matrix A and B: \\n\";\n",
        "    print(C, M, K);\n",
        "\n",
        "    cout << \"Sequential Multiplication Time: \" << seq_duration.count() << \" microseconds\" << endl;\n",
        "    cout << \"Parallel Multiplication Time: \" << par_duration.count() << \" microseconds\" << endl;\n",
        "\n",
        "    delete[] A;\n",
        "    delete[] B;\n",
        "    delete[] C;\n",
        "\n",
        "    cudaFree(X);\n",
        "    cudaFree(Y);\n",
        "    cudaFree(Z);\n",
        "\n",
        "    return 0;\n",
        "}\n"
      ],
      "metadata": {
        "colab": {
          "base_uri": "https://localhost:8080/"
        },
        "id": "AkO4tn7i-77l",
        "outputId": "a1b0259a-50a1-42b4-d1d0-5de6b059fe20"
      },
      "execution_count": 4,
      "outputs": [
        {
          "output_type": "stream",
          "name": "stdout",
          "text": [
            "Writing matrix.cu\n"
          ]
        }
      ]
    },
    {
      "cell_type": "code",
      "source": [
        "!nvcc matrix.cu -o matrix\n",
        "!./matrix\n"
      ],
      "metadata": {
        "colab": {
          "base_uri": "https://localhost:8080/"
        },
        "id": "ZfLv8VJf_mRd",
        "outputId": "a56dd384-fd76-464a-a2e7-643b2c6a5bbe"
      },
      "execution_count": 5,
      "outputs": [
        {
          "output_type": "stream",
          "name": "stdout",
          "text": [
            "\u001b[01m\u001b[0m\u001b[01mmatrix.cu(61)\u001b[0m: \u001b[01;35mwarning\u001b[0m #177-D: variable \u001b[01m\"matrixBytes\"\u001b[0m was declared but never referenced\n",
            "      size_t matrixBytes = matrixSize * sizeof(int);\n",
            "             ^\n",
            "\n",
            "\u001b[01;36m\u001b[0m\u001b[01;36mRemark\u001b[0m: The warnings can be suppressed with \"-diag-suppress <warning-number>\"\n",
            "\n",
            "Enter the number of rows and columns of the first matrix: 2 2\n",
            "Enter the number of columns of the second matrix: 2\n",
            "Enter element 1: 12\n",
            "Enter element 2: 23\n",
            "Enter element 3: 12\n",
            "Enter element 4: 343\n",
            "Enter element 1: 34\n",
            "Enter element 2: 34\n",
            "Enter element 3: 45\n",
            "Enter element 4: 1\n",
            "Matrix A: \n",
            "12 23 \n",
            "12 343 \n",
            "\n",
            "Matrix B: \n",
            "34 34 \n",
            "45 1 \n",
            "\n",
            "Sequential Multiplication of matrix A and B: \n",
            "1443 431 \n",
            "15843 751 \n",
            "\n",
            "Parallel Multiplication of matrix A and B: \n",
            "1443 431 \n",
            "15843 751 \n",
            "\n",
            "Sequential Multiplication Time: 0 microseconds\n",
            "Parallel Multiplication Time: 6 microseconds\n"
          ]
        }
      ]
    },
    {
      "cell_type": "code",
      "source": [
        "%%writefile vector.cu\n",
        "#include <iostream>\n",
        "#include <cuda.h>\n",
        "#include <chrono>\n",
        "\n",
        "using namespace std;\n",
        "using namespace std::chrono;\n",
        "\n",
        "__global__ void add(int* A, int* B, int* C, int size) {\n",
        "    int tid = blockIdx.x * blockDim.x + threadIdx.x;\n",
        "\n",
        "    if (tid < size) {\n",
        "        C[tid] = A[tid] + B[tid];\n",
        "    }\n",
        "}\n",
        "\n",
        "void initialize(int* vector, int size) {\n",
        "    for (int i = 0; i < size; i++) {\n",
        "        cout << \"Enter element \" << i + 1 << \" of the vector: \";\n",
        "        cin >> vector[i];\n",
        "    }\n",
        "}\n",
        "\n",
        "void print(int* vector, int size) {\n",
        "    for (int i = 0; i < size; i++) {\n",
        "        cout << vector[i] << \" \";\n",
        "    }\n",
        "    cout << endl;\n",
        "}\n",
        "\n",
        "void sequentialAddition(int* A, int* B, int* C, int size) {\n",
        "    for (int i = 0; i < size; i++) {\n",
        "        C[i] = A[i] + B[i];\n",
        "    }\n",
        "}\n",
        "\n",
        "int main() {\n",
        "    int N;\n",
        "    cout << \"Enter the size of the vectors: \";\n",
        "    cin >> N;\n",
        "\n",
        "    int* A, * B, * C;\n",
        "\n",
        "    int vectorSize = N;\n",
        "    size_t vectorBytes = vectorSize * sizeof(int);\n",
        "\n",
        "    A = new int[vectorSize];\n",
        "    B = new int[vectorSize];\n",
        "    C = new int[vectorSize];\n",
        "\n",
        "    initialize(A, vectorSize);\n",
        "    initialize(B, vectorSize);\n",
        "\n",
        "    cout << \"Vector A: \";\n",
        "    print(A, N);\n",
        "    cout << \"Vector B: \";\n",
        "    print(B, N);\n",
        "\n",
        "    int* X, * Y, * Z;\n",
        "    cudaMalloc(&X, vectorBytes);\n",
        "    cudaMalloc(&Y, vectorBytes);\n",
        "    cudaMalloc(&Z, vectorBytes);\n",
        "\n",
        "    cudaMemcpy(X, A, vectorBytes, cudaMemcpyHostToDevice);\n",
        "    cudaMemcpy(Y, B, vectorBytes, cudaMemcpyHostToDevice);\n",
        "\n",
        "    int threadsPerBlock = 256;\n",
        "    int blocksPerGrid = (N + threadsPerBlock - 1) / threadsPerBlock;\n",
        "\n",
        "    // Sequential addition\n",
        "    auto start = high_resolution_clock::now();\n",
        "    sequentialAddition(A, B, C, N);\n",
        "    auto stop = high_resolution_clock::now();\n",
        "    auto seq_duration = duration_cast<microseconds>(stop - start);\n",
        "\n",
        "    cout << \"Sequential Addition: \";\n",
        "    print(C, N);\n",
        "\n",
        "    // Parallel addition\n",
        "    start = high_resolution_clock::now();\n",
        "    add<<<blocksPerGrid, threadsPerBlock>>>(X, Y, Z, N);\n",
        "    cudaMemcpy(C, Z, vectorBytes, cudaMemcpyDeviceToHost);\n",
        "    stop = high_resolution_clock::now();\n",
        "    auto par_duration = duration_cast<microseconds>(stop - start);\n",
        "\n",
        "    cout << \"Parallel Addition: \";\n",
        "    print(C, N);\n",
        "\n",
        "    cout << \"Sequential Addition Time: \" << seq_duration.count() << \" microseconds\" << endl;\n",
        "    cout << \"Parallel Addition Time: \" << par_duration.count() << \" microseconds\" << endl;\n",
        "\n",
        "    delete[] A;\n",
        "    delete[] B;\n",
        "    delete[] C;\n",
        "\n",
        "    cudaFree(X);\n",
        "    cudaFree(Y);\n",
        "    cudaFree(Z);\n",
        "\n",
        "    return 0;\n",
        "}\n"
      ],
      "metadata": {
        "colab": {
          "base_uri": "https://localhost:8080/"
        },
        "id": "c8ngimyzAG4W",
        "outputId": "e26f79c0-2112-43bc-8146-676a5eac4536"
      },
      "execution_count": 6,
      "outputs": [
        {
          "output_type": "stream",
          "name": "stdout",
          "text": [
            "Writing vector.cu\n"
          ]
        }
      ]
    },
    {
      "cell_type": "code",
      "source": [
        "!nvcc vector.cu -o vector\n",
        "!./vector"
      ],
      "metadata": {
        "colab": {
          "base_uri": "https://localhost:8080/"
        },
        "id": "sV8N0vFlEg2v",
        "outputId": "a31e496f-c3b3-45ae-e035-126cacd2be82"
      },
      "execution_count": 7,
      "outputs": [
        {
          "output_type": "stream",
          "name": "stdout",
          "text": [
            "Enter the size of the vectors: 3\n",
            "Enter element 1 of the vector: 12\n",
            "Enter element 2 of the vector: 1\n",
            "Enter element 3 of the vector: 1\n",
            "Enter element 1 of the vector: 1\n",
            "Enter element 2 of the vector: 12\n",
            "Enter element 3 of the vector: 1\n",
            "Vector A: 12 1 1 \n",
            "Vector B: 1 12 1 \n",
            "Sequential Addition: 13 13 2 \n",
            "Parallel Addition: 13 13 2 \n",
            "Sequential Addition Time: 0 microseconds\n",
            "Parallel Addition Time: 15 microseconds\n"
          ]
        }
      ]
    },
    {
      "cell_type": "code",
      "source": [],
      "metadata": {
        "id": "j9ps4zaPEpMA"
      },
      "execution_count": null,
      "outputs": []
    }
  ]
}