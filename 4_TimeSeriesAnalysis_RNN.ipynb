{
 "cells": [
  {
   "cell_type": "markdown",
   "metadata": {
    "id": "MBQZz3rsqzPx"
   },
   "source": [
    "PS: Recurrent neural network (RNN) Use the Google stock prices dataset and design a time series analysis and prediction system using RNN."
   ]
  },
  {
   "cell_type": "code",
   "execution_count": 1,
   "metadata": {
    "executionInfo": {
     "elapsed": 11899,
     "status": "ok",
     "timestamp": 1713720312199,
     "user": {
      "displayName": "Srushti Sonavane",
      "userId": "12690477687957494306"
     },
     "user_tz": -330
    },
    "id": "0mi3A5T_qyR7"
   },
   "outputs": [
    {
     "ename": "ImportError",
     "evalue": "Traceback (most recent call last):\n  File \"D:\\Python\\lib\\site-packages\\tensorflow\\python\\pywrap_tensorflow.py\", line 73, in <module>\n    from tensorflow.python._pywrap_tensorflow_internal import *\nImportError: DLL load failed while importing _pywrap_tensorflow_internal: A dynamic link library (DLL) initialization routine failed.\n\n\nFailed to load the native TensorFlow runtime.\nSee https://www.tensorflow.org/install/errors for some common causes and solutions.\nIf you need help, create an issue at https://github.com/tensorflow/tensorflow/issues and include the entire stack trace above this error message.",
     "output_type": "error",
     "traceback": [
      "\u001b[1;31m---------------------------------------------------------------------------\u001b[0m",
      "\u001b[1;31mImportError\u001b[0m                               Traceback (most recent call last)",
      "File \u001b[1;32mD:\\Python\\lib\\site-packages\\tensorflow\\python\\pywrap_tensorflow.py:73\u001b[0m\n\u001b[0;32m     72\u001b[0m \u001b[38;5;28;01mtry\u001b[39;00m:\n\u001b[1;32m---> 73\u001b[0m   \u001b[38;5;28;01mfrom\u001b[39;00m \u001b[38;5;21;01mtensorflow\u001b[39;00m\u001b[38;5;21;01m.\u001b[39;00m\u001b[38;5;21;01mpython\u001b[39;00m\u001b[38;5;21;01m.\u001b[39;00m\u001b[38;5;21;01m_pywrap_tensorflow_internal\u001b[39;00m \u001b[38;5;28;01mimport\u001b[39;00m \u001b[38;5;241m*\u001b[39m\n\u001b[0;32m     74\u001b[0m \u001b[38;5;66;03m# This try catch logic is because there is no bazel equivalent for py_extension.\u001b[39;00m\n\u001b[0;32m     75\u001b[0m \u001b[38;5;66;03m# Externally in opensource we must enable exceptions to load the shared object\u001b[39;00m\n\u001b[0;32m     76\u001b[0m \u001b[38;5;66;03m# by exposing the PyInit symbols with pybind. This error will only be\u001b[39;00m\n\u001b[0;32m     77\u001b[0m \u001b[38;5;66;03m# caught internally or if someone changes the name of the target _pywrap_tensorflow_internal.\u001b[39;00m\n\u001b[0;32m     78\u001b[0m \n\u001b[0;32m     79\u001b[0m \u001b[38;5;66;03m# This logic is used in other internal projects using py_extension.\u001b[39;00m\n",
      "\u001b[1;31mImportError\u001b[0m: DLL load failed while importing _pywrap_tensorflow_internal: A dynamic link library (DLL) initialization routine failed.",
      "\nDuring handling of the above exception, another exception occurred:\n",
      "\u001b[1;31mImportError\u001b[0m                               Traceback (most recent call last)",
      "Cell \u001b[1;32mIn[1], line 5\u001b[0m\n\u001b[0;32m      3\u001b[0m \u001b[38;5;28;01mimport\u001b[39;00m \u001b[38;5;21;01mpandas\u001b[39;00m \u001b[38;5;28;01mas\u001b[39;00m \u001b[38;5;21;01mpd\u001b[39;00m\n\u001b[0;32m      4\u001b[0m \u001b[38;5;28;01mfrom\u001b[39;00m \u001b[38;5;21;01msklearn\u001b[39;00m\u001b[38;5;21;01m.\u001b[39;00m\u001b[38;5;21;01mpreprocessing\u001b[39;00m \u001b[38;5;28;01mimport\u001b[39;00m MinMaxScaler\n\u001b[1;32m----> 5\u001b[0m \u001b[38;5;28;01mfrom\u001b[39;00m \u001b[38;5;21;01mtensorflow\u001b[39;00m\u001b[38;5;21;01m.\u001b[39;00m\u001b[38;5;21;01mkeras\u001b[39;00m\u001b[38;5;21;01m.\u001b[39;00m\u001b[38;5;21;01mmodels\u001b[39;00m \u001b[38;5;28;01mimport\u001b[39;00m Sequential\n\u001b[0;32m      6\u001b[0m \u001b[38;5;28;01mfrom\u001b[39;00m \u001b[38;5;21;01mtensorflow\u001b[39;00m\u001b[38;5;21;01m.\u001b[39;00m\u001b[38;5;21;01mkeras\u001b[39;00m\u001b[38;5;21;01m.\u001b[39;00m\u001b[38;5;21;01mlayers\u001b[39;00m \u001b[38;5;28;01mimport\u001b[39;00m LSTM\n\u001b[0;32m      7\u001b[0m \u001b[38;5;28;01mfrom\u001b[39;00m \u001b[38;5;21;01mtensorflow\u001b[39;00m\u001b[38;5;21;01m.\u001b[39;00m\u001b[38;5;21;01mkeras\u001b[39;00m\u001b[38;5;21;01m.\u001b[39;00m\u001b[38;5;21;01mlayers\u001b[39;00m \u001b[38;5;28;01mimport\u001b[39;00m Dense\n",
      "File \u001b[1;32mD:\\Python\\lib\\site-packages\\tensorflow\\__init__.py:40\u001b[0m\n\u001b[0;32m     37\u001b[0m _os\u001b[38;5;241m.\u001b[39menviron\u001b[38;5;241m.\u001b[39msetdefault(\u001b[38;5;124m\"\u001b[39m\u001b[38;5;124mENABLE_RUNTIME_UPTIME_TELEMETRY\u001b[39m\u001b[38;5;124m\"\u001b[39m, \u001b[38;5;124m\"\u001b[39m\u001b[38;5;124m1\u001b[39m\u001b[38;5;124m\"\u001b[39m)\n\u001b[0;32m     39\u001b[0m \u001b[38;5;66;03m# Do not remove this line; See https://github.com/tensorflow/tensorflow/issues/42596\u001b[39;00m\n\u001b[1;32m---> 40\u001b[0m \u001b[38;5;28;01mfrom\u001b[39;00m \u001b[38;5;21;01mtensorflow\u001b[39;00m\u001b[38;5;21;01m.\u001b[39;00m\u001b[38;5;21;01mpython\u001b[39;00m \u001b[38;5;28;01mimport\u001b[39;00m pywrap_tensorflow \u001b[38;5;28;01mas\u001b[39;00m _pywrap_tensorflow  \u001b[38;5;66;03m# pylint: disable=unused-import\u001b[39;00m\n\u001b[0;32m     41\u001b[0m \u001b[38;5;28;01mfrom\u001b[39;00m \u001b[38;5;21;01mtensorflow\u001b[39;00m\u001b[38;5;21;01m.\u001b[39;00m\u001b[38;5;21;01mpython\u001b[39;00m\u001b[38;5;21;01m.\u001b[39;00m\u001b[38;5;21;01mtools\u001b[39;00m \u001b[38;5;28;01mimport\u001b[39;00m module_util \u001b[38;5;28;01mas\u001b[39;00m _module_util\n\u001b[0;32m     42\u001b[0m \u001b[38;5;28;01mfrom\u001b[39;00m \u001b[38;5;21;01mtensorflow\u001b[39;00m\u001b[38;5;21;01m.\u001b[39;00m\u001b[38;5;21;01mpython\u001b[39;00m\u001b[38;5;21;01m.\u001b[39;00m\u001b[38;5;21;01mutil\u001b[39;00m\u001b[38;5;21;01m.\u001b[39;00m\u001b[38;5;21;01mlazy_loader\u001b[39;00m \u001b[38;5;28;01mimport\u001b[39;00m KerasLazyLoader \u001b[38;5;28;01mas\u001b[39;00m _KerasLazyLoader\n",
      "File \u001b[1;32mD:\\Python\\lib\\site-packages\\tensorflow\\python\\pywrap_tensorflow.py:88\u001b[0m\n\u001b[0;32m     86\u001b[0m     sys\u001b[38;5;241m.\u001b[39msetdlopenflags(_default_dlopen_flags)\n\u001b[0;32m     87\u001b[0m \u001b[38;5;28;01mexcept\u001b[39;00m \u001b[38;5;167;01mImportError\u001b[39;00m:\n\u001b[1;32m---> 88\u001b[0m   \u001b[38;5;28;01mraise\u001b[39;00m \u001b[38;5;167;01mImportError\u001b[39;00m(\n\u001b[0;32m     89\u001b[0m       \u001b[38;5;124mf\u001b[39m\u001b[38;5;124m'\u001b[39m\u001b[38;5;132;01m{\u001b[39;00mtraceback\u001b[38;5;241m.\u001b[39mformat_exc()\u001b[38;5;132;01m}\u001b[39;00m\u001b[38;5;124m'\u001b[39m\n\u001b[0;32m     90\u001b[0m       \u001b[38;5;124mf\u001b[39m\u001b[38;5;124m'\u001b[39m\u001b[38;5;130;01m\\n\u001b[39;00m\u001b[38;5;130;01m\\n\u001b[39;00m\u001b[38;5;124mFailed to load the native TensorFlow runtime.\u001b[39m\u001b[38;5;130;01m\\n\u001b[39;00m\u001b[38;5;124m'\u001b[39m\n\u001b[0;32m     91\u001b[0m       \u001b[38;5;124mf\u001b[39m\u001b[38;5;124m'\u001b[39m\u001b[38;5;124mSee https://www.tensorflow.org/install/errors \u001b[39m\u001b[38;5;124m'\u001b[39m\n\u001b[0;32m     92\u001b[0m       \u001b[38;5;124mf\u001b[39m\u001b[38;5;124m'\u001b[39m\u001b[38;5;124mfor some common causes and solutions.\u001b[39m\u001b[38;5;130;01m\\n\u001b[39;00m\u001b[38;5;124m'\u001b[39m\n\u001b[0;32m     93\u001b[0m       \u001b[38;5;124mf\u001b[39m\u001b[38;5;124m'\u001b[39m\u001b[38;5;124mIf you need help, create an issue \u001b[39m\u001b[38;5;124m'\u001b[39m\n\u001b[0;32m     94\u001b[0m       \u001b[38;5;124mf\u001b[39m\u001b[38;5;124m'\u001b[39m\u001b[38;5;124mat https://github.com/tensorflow/tensorflow/issues \u001b[39m\u001b[38;5;124m'\u001b[39m\n\u001b[0;32m     95\u001b[0m       \u001b[38;5;124mf\u001b[39m\u001b[38;5;124m'\u001b[39m\u001b[38;5;124mand include the entire stack trace above this error message.\u001b[39m\u001b[38;5;124m'\u001b[39m)\n\u001b[0;32m     97\u001b[0m \u001b[38;5;66;03m# pylint: enable=wildcard-import,g-import-not-at-top,unused-import,line-too-long\u001b[39;00m\n",
      "\u001b[1;31mImportError\u001b[0m: Traceback (most recent call last):\n  File \"D:\\Python\\lib\\site-packages\\tensorflow\\python\\pywrap_tensorflow.py\", line 73, in <module>\n    from tensorflow.python._pywrap_tensorflow_internal import *\nImportError: DLL load failed while importing _pywrap_tensorflow_internal: A dynamic link library (DLL) initialization routine failed.\n\n\nFailed to load the native TensorFlow runtime.\nSee https://www.tensorflow.org/install/errors for some common causes and solutions.\nIf you need help, create an issue at https://github.com/tensorflow/tensorflow/issues and include the entire stack trace above this error message."
     ]
    }
   ],
   "source": [
    "import numpy as np\n",
    "import matplotlib.pyplot as plt\n",
    "import pandas as pd\n",
    "from sklearn.preprocessing import MinMaxScaler\n",
    "from tensorflow.keras.models import Sequential\n",
    "from tensorflow.keras.layers import LSTM\n",
    "from tensorflow.keras.layers import Dense\n",
    "from tensorflow.keras.layers import Dropout"
   ]
  },
  {
   "cell_type": "code",
   "execution_count": null,
   "metadata": {
    "colab": {
     "base_uri": "https://localhost:8080/",
     "height": 206
    },
    "executionInfo": {
     "elapsed": 478,
     "status": "ok",
     "timestamp": 1713720319316,
     "user": {
      "displayName": "Srushti Sonavane",
      "userId": "12690477687957494306"
     },
     "user_tz": -330
    },
    "id": "hQx7V5QLsGu2",
    "outputId": "ca9a9199-5159-48ca-b585-86ddfe4a1cde"
   },
   "outputs": [],
   "source": [
    "dataset_train = pd.read_csv('https://raw.githubusercontent.com/PROxZIMA/Academic-Codes/master/Semester%208/LP5/DL/4/Google_Stock_Price_Train.csv')\n",
    "dataset_train.head()"
   ]
  },
  {
   "cell_type": "code",
   "execution_count": null,
   "metadata": {
    "colab": {
     "base_uri": "https://localhost:8080/",
     "height": 0
    },
    "executionInfo": {
     "elapsed": 15,
     "status": "ok",
     "timestamp": 1713720333761,
     "user": {
      "displayName": "Srushti Sonavane",
      "userId": "12690477687957494306"
     },
     "user_tz": -330
    },
    "id": "AKUFJ5Z1sNfd",
    "outputId": "3783f8f3-c4d1-4368-a55b-fb2f87594901"
   },
   "outputs": [],
   "source": [
    "#keras only takes numpy array\n",
    "training_set = dataset_train.iloc[:, 1: 2].values\n",
    "training_set.shape"
   ]
  },
  {
   "cell_type": "code",
   "execution_count": null,
   "metadata": {
    "executionInfo": {
     "elapsed": 11,
     "status": "ok",
     "timestamp": 1713720341014,
     "user": {
      "displayName": "Srushti Sonavane",
      "userId": "12690477687957494306"
     },
     "user_tz": -330
    },
    "id": "IrraEg00sRES"
   },
   "outputs": [],
   "source": [
    "sc = MinMaxScaler(feature_range = (0, 1))\n",
    "#fit: get min/max of train data\n",
    "training_set_scaled = sc.fit_transform(training_set)"
   ]
  },
  {
   "cell_type": "code",
   "execution_count": null,
   "metadata": {
    "executionInfo": {
     "elapsed": 416,
     "status": "ok",
     "timestamp": 1713720350158,
     "user": {
      "displayName": "Srushti Sonavane",
      "userId": "12690477687957494306"
     },
     "user_tz": -330
    },
    "id": "RYH9ZvDUsS7b"
   },
   "outputs": [],
   "source": [
    "## 60 timesteps and 1 output\n",
    "X_train = []\n",
    "y_train = []\n",
    "for i in range(60, len(training_set_scaled)):\n",
    "    X_train.append(training_set_scaled[i-60: i, 0])\n",
    "    y_train.append(training_set_scaled[i, 0])\n",
    "\n",
    "X_train, y_train = np.array(X_train), np.array(y_train)"
   ]
  },
  {
   "cell_type": "code",
   "execution_count": null,
   "metadata": {
    "colab": {
     "base_uri": "https://localhost:8080/",
     "height": 0
    },
    "executionInfo": {
     "elapsed": 35,
     "status": "ok",
     "timestamp": 1713720359364,
     "user": {
      "displayName": "Srushti Sonavane",
      "userId": "12690477687957494306"
     },
     "user_tz": -330
    },
    "id": "ci_0rOL3sU81",
    "outputId": "62437ca1-bc8e-4a44-f748-c4e68d8de613"
   },
   "outputs": [],
   "source": [
    "X_train.shape"
   ]
  },
  {
   "cell_type": "code",
   "execution_count": null,
   "metadata": {
    "colab": {
     "base_uri": "https://localhost:8080/",
     "height": 0
    },
    "executionInfo": {
     "elapsed": 7,
     "status": "ok",
     "timestamp": 1713720363885,
     "user": {
      "displayName": "Srushti Sonavane",
      "userId": "12690477687957494306"
     },
     "user_tz": -330
    },
    "id": "AfEA00pZsXPG",
    "outputId": "0db788d1-ae4e-4a49-b0dd-189673f44ec4"
   },
   "outputs": [],
   "source": [
    "y_train.shape"
   ]
  },
  {
   "cell_type": "code",
   "execution_count": null,
   "metadata": {
    "executionInfo": {
     "elapsed": 551,
     "status": "ok",
     "timestamp": 1713720370849,
     "user": {
      "displayName": "Srushti Sonavane",
      "userId": "12690477687957494306"
     },
     "user_tz": -330
    },
    "id": "w51TH44TsYeP"
   },
   "outputs": [],
   "source": [
    "X_train = np.reshape(X_train, newshape =\n",
    "                     (X_train.shape[0], X_train.shape[1], 1))"
   ]
  },
  {
   "cell_type": "code",
   "execution_count": null,
   "metadata": {
    "colab": {
     "base_uri": "https://localhost:8080/",
     "height": 0
    },
    "executionInfo": {
     "elapsed": 12,
     "status": "ok",
     "timestamp": 1713720375319,
     "user": {
      "displayName": "Srushti Sonavane",
      "userId": "12690477687957494306"
     },
     "user_tz": -330
    },
    "id": "3PFlZc6AsZ-3",
    "outputId": "dcda10ac-a1b7-4b4c-aaf3-c12ee14e79f3"
   },
   "outputs": [],
   "source": [
    "X_train.shape"
   ]
  },
  {
   "cell_type": "code",
   "execution_count": null,
   "metadata": {
    "colab": {
     "base_uri": "https://localhost:8080/",
     "height": 632
    },
    "executionInfo": {
     "elapsed": 1858,
     "status": "ok",
     "timestamp": 1713720382266,
     "user": {
      "displayName": "Srushti Sonavane",
      "userId": "12690477687957494306"
     },
     "user_tz": -330
    },
    "id": "x-ylR0aOsbI-",
    "outputId": "35580efc-0365-4732-a718-6d796b7bd9cc"
   },
   "outputs": [],
   "source": [
    "plt.figure(figsize=(18, 8))\n",
    "plt.plot(dataset_train['Open'])\n",
    "plt.title(\"Google Stock Open Prices\")\n",
    "plt.xlabel(\"Time (oldest -> latest)\")\n",
    "plt.ylabel(\"Stock Open Price\")\n",
    "plt.show()"
   ]
  },
  {
   "cell_type": "code",
   "execution_count": null,
   "metadata": {
    "colab": {
     "base_uri": "https://localhost:8080/",
     "height": 632
    },
    "executionInfo": {
     "elapsed": 1791,
     "status": "ok",
     "timestamp": 1713720390694,
     "user": {
      "displayName": "Srushti Sonavane",
      "userId": "12690477687957494306"
     },
     "user_tz": -330
    },
    "id": "KjgJMzmTscfX",
    "outputId": "44bd355b-b17e-4ead-edd0-b12f11daf413"
   },
   "outputs": [],
   "source": [
    "plt.figure(figsize=(18, 8))\n",
    "plt.plot(dataset_train['Low'])\n",
    "plt.title(\"Google Stock Low Prices\")\n",
    "plt.xlabel(\"Time (oldest -> latest)\")\n",
    "plt.ylabel(\"Stock Lowest Price\")\n",
    "plt.show()"
   ]
  },
  {
   "cell_type": "code",
   "execution_count": null,
   "metadata": {
    "executionInfo": {
     "elapsed": 2631,
     "status": "ok",
     "timestamp": 1713720401714,
     "user": {
      "displayName": "Srushti Sonavane",
      "userId": "12690477687957494306"
     },
     "user_tz": -330
    },
    "id": "euvl_pATsejA"
   },
   "outputs": [],
   "source": [
    "regressor = Sequential()\n",
    "#add 1st lstm layer\n",
    "regressor.add(LSTM(units = 50, return_sequences = True, input_shape = (X_train.shape[1], 1)))\n",
    "regressor.add(Dropout(rate = 0.2))\n",
    "\n",
    "##add 2nd lstm layer: 50 neurons\n",
    "regressor.add(LSTM(units = 50, return_sequences = True))\n",
    "regressor.add(Dropout(rate = 0.2))\n",
    "\n",
    "##add 3rd lstm layer\n",
    "regressor.add(LSTM(units = 50, return_sequences = True))\n",
    "regressor.add(Dropout(rate = 0.2))\n",
    "\n",
    "##add 4th lstm layer\n",
    "regressor.add(LSTM(units = 50, return_sequences = False))\n",
    "regressor.add(Dropout(rate = 0.2))\n",
    "\n",
    "##add output layer\n",
    "regressor.add(Dense(units = 1))"
   ]
  },
  {
   "cell_type": "code",
   "execution_count": null,
   "metadata": {
    "executionInfo": {
     "elapsed": 509,
     "status": "ok",
     "timestamp": 1713720406906,
     "user": {
      "displayName": "Srushti Sonavane",
      "userId": "12690477687957494306"
     },
     "user_tz": -330
    },
    "id": "TqQhJF5tshGf"
   },
   "outputs": [],
   "source": [
    "regressor.compile(optimizer = 'adam', loss = 'mean_squared_error')"
   ]
  },
  {
   "cell_type": "code",
   "execution_count": null,
   "metadata": {
    "colab": {
     "base_uri": "https://localhost:8080/",
     "height": 0
    },
    "executionInfo": {
     "elapsed": 626533,
     "status": "ok",
     "timestamp": 1713721039636,
     "user": {
      "displayName": "Srushti Sonavane",
      "userId": "12690477687957494306"
     },
     "user_tz": -330
    },
    "id": "aMFUoeNxsixw",
    "outputId": "6f6f4a5a-0a86-4e74-af99-2044c2695822"
   },
   "outputs": [],
   "source": [
    "regressor.fit(x = X_train, y = y_train, batch_size = 32, epochs = 100)"
   ]
  },
  {
   "cell_type": "code",
   "execution_count": null,
   "metadata": {
    "colab": {
     "base_uri": "https://localhost:8080/",
     "height": 206
    },
    "executionInfo": {
     "elapsed": 116,
     "status": "ok",
     "timestamp": 1713721039638,
     "user": {
      "displayName": "Srushti Sonavane",
      "userId": "12690477687957494306"
     },
     "user_tz": -330
    },
    "id": "pOefF9KnskQI",
    "outputId": "dff02aa1-f352-46b5-877b-51a41479ae1e"
   },
   "outputs": [],
   "source": [
    "dataset_test = pd.read_csv('https://raw.githubusercontent.com/PROxZIMA/Academic-Codes/master/Semester%208/LP5/DL/4/Google_Stock_Price_Test.csv')\n",
    "dataset_test.head()"
   ]
  },
  {
   "cell_type": "code",
   "execution_count": null,
   "metadata": {
    "colab": {
     "base_uri": "https://localhost:8080/",
     "height": 0
    },
    "executionInfo": {
     "elapsed": 86,
     "status": "ok",
     "timestamp": 1713721039639,
     "user": {
      "displayName": "Srushti Sonavane",
      "userId": "12690477687957494306"
     },
     "user_tz": -330
    },
    "id": "d42EY7d8srxk",
    "outputId": "36aec8a8-6225-4f15-acbb-8668659f7c9f"
   },
   "outputs": [],
   "source": [
    "#keras only takes numpy array\n",
    "real_stock_price = dataset_test.iloc[:, 1: 2].values\n",
    "real_stock_price.shape"
   ]
  },
  {
   "cell_type": "code",
   "execution_count": null,
   "metadata": {
    "executionInfo": {
     "elapsed": 61,
     "status": "ok",
     "timestamp": 1713721039641,
     "user": {
      "displayName": "Srushti Sonavane",
      "userId": "12690477687957494306"
     },
     "user_tz": -330
    },
    "id": "nk7dqBnxssMS"
   },
   "outputs": [],
   "source": [
    "#vertical concat use 0, horizontal uses 1\n",
    "dataset_total = pd.concat((dataset_train['Open'], dataset_test['Open']),\n",
    "                          axis = 0)\n",
    "##use .values to make numpy array\n",
    "inputs = dataset_total[len(dataset_total) - len(dataset_test) - 60:].values"
   ]
  },
  {
   "cell_type": "code",
   "execution_count": null,
   "metadata": {
    "executionInfo": {
     "elapsed": 61,
     "status": "ok",
     "timestamp": 1713721039643,
     "user": {
      "displayName": "Srushti Sonavane",
      "userId": "12690477687957494306"
     },
     "user_tz": -330
    },
    "id": "ei9tiXKtsul5"
   },
   "outputs": [],
   "source": [
    "#reshape data to only have 1 col\n",
    "inputs = inputs.reshape(-1, 1)\n",
    "\n",
    "#scale input\n",
    "inputs = sc.transform(inputs)"
   ]
  },
  {
   "cell_type": "code",
   "execution_count": null,
   "metadata": {
    "colab": {
     "base_uri": "https://localhost:8080/",
     "height": 0
    },
    "executionInfo": {
     "elapsed": 61,
     "status": "ok",
     "timestamp": 1713721039645,
     "user": {
      "displayName": "Srushti Sonavane",
      "userId": "12690477687957494306"
     },
     "user_tz": -330
    },
    "id": "cKNBxFGNsyuY",
    "outputId": "e34e7cee-95dd-4197-d025-e08a76b8584e"
   },
   "outputs": [],
   "source": [
    "len(inputs)"
   ]
  },
  {
   "cell_type": "code",
   "execution_count": null,
   "metadata": {
    "executionInfo": {
     "elapsed": 726,
     "status": "ok",
     "timestamp": 1713721040323,
     "user": {
      "displayName": "Srushti Sonavane",
      "userId": "12690477687957494306"
     },
     "user_tz": -330
    },
    "id": "lDP2VIeJs0xn"
   },
   "outputs": [],
   "source": [
    "X_test = []\n",
    "for i in range(60, len(inputs)):\n",
    "    X_test.append(inputs[i-60:i, 0])\n",
    "X_test = np.array(X_test)\n",
    "#add dimension of indicator\n",
    "X_test = np.reshape(X_test, (X_test.shape[0], X_test.shape[1], 1))"
   ]
  },
  {
   "cell_type": "code",
   "execution_count": null,
   "metadata": {
    "colab": {
     "base_uri": "https://localhost:8080/",
     "height": 0
    },
    "executionInfo": {
     "elapsed": 12,
     "status": "ok",
     "timestamp": 1713721040325,
     "user": {
      "displayName": "Srushti Sonavane",
      "userId": "12690477687957494306"
     },
     "user_tz": -330
    },
    "id": "u-cxP6MHs2ih",
    "outputId": "50431143-67dc-4907-9c09-474b65a74b01"
   },
   "outputs": [],
   "source": [
    "X_test.shape"
   ]
  },
  {
   "cell_type": "code",
   "execution_count": null,
   "metadata": {
    "colab": {
     "base_uri": "https://localhost:8080/",
     "height": 0
    },
    "executionInfo": {
     "elapsed": 2128,
     "status": "ok",
     "timestamp": 1713721042444,
     "user": {
      "displayName": "Srushti Sonavane",
      "userId": "12690477687957494306"
     },
     "user_tz": -330
    },
    "id": "eq8L0mZZs4So",
    "outputId": "47ce29f2-c12c-45de-8209-51a5eab84a72"
   },
   "outputs": [],
   "source": [
    "predicted_stock_price = regressor.predict(X_test)"
   ]
  },
  {
   "cell_type": "code",
   "execution_count": null,
   "metadata": {
    "executionInfo": {
     "elapsed": 38,
     "status": "ok",
     "timestamp": 1713721042445,
     "user": {
      "displayName": "Srushti Sonavane",
      "userId": "12690477687957494306"
     },
     "user_tz": -330
    },
    "id": "ZiUDnJ1Xs5zB"
   },
   "outputs": [],
   "source": [
    "#inverse the scaled value\n",
    "predicted_stock_price = sc.inverse_transform(predicted_stock_price)"
   ]
  },
  {
   "cell_type": "code",
   "execution_count": null,
   "metadata": {
    "colab": {
     "base_uri": "https://localhost:8080/",
     "height": 472
    },
    "executionInfo": {
     "elapsed": 37,
     "status": "ok",
     "timestamp": 1713721042446,
     "user": {
      "displayName": "Srushti Sonavane",
      "userId": "12690477687957494306"
     },
     "user_tz": -330
    },
    "id": "ouaLaAA8s7e5",
    "outputId": "1ebd20e9-da6f-4fc0-baf1-edde7344cb50"
   },
   "outputs": [],
   "source": [
    "##visualize the prediction and real price\n",
    "plt.plot(real_stock_price, color = 'red', label = 'Real price')\n",
    "plt.plot(predicted_stock_price, color = 'blue', label = 'Predicted price')\n",
    "\n",
    "plt.title('Google price prediction')\n",
    "plt.xlabel('Time')\n",
    "plt.ylabel('Price')\n",
    "plt.legend()\n",
    "plt.show()"
   ]
  },
  {
   "cell_type": "markdown",
   "metadata": {
    "id": "fUUobu9Es9us"
   },
   "source": [
    "# Simple Version!"
   ]
  },
  {
   "cell_type": "code",
   "execution_count": null,
   "metadata": {
    "colab": {
     "base_uri": "https://localhost:8080/",
     "height": 1000
    },
    "executionInfo": {
     "elapsed": 238051,
     "status": "ok",
     "timestamp": 1713721621470,
     "user": {
      "displayName": "Srushti Sonavane",
      "userId": "12690477687957494306"
     },
     "user_tz": -330
    },
    "id": "sr-OS9Xfs9YI",
    "outputId": "6c023f48-2801-48c9-b7cf-57c4930d9beb"
   },
   "outputs": [],
   "source": [
    "import numpy as np\n",
    "import pandas as pd\n",
    "from sklearn.preprocessing import MinMaxScaler\n",
    "from tensorflow.keras.models import Sequential\n",
    "from tensorflow.keras.layers import LSTM, Dense\n",
    "from sklearn.metrics import mean_squared_error\n",
    "import matplotlib.pyplot as plt\n",
    "\n",
    "# Load data\n",
    "data = pd.read_csv('https://raw.githubusercontent.com/PROxZIMA/Academic-Codes/master/Semester%208/LP5/DL/4/Google_Stock_Price_Train.csv')\n",
    "# Preprocess data\n",
    "data['Close'] = data['Close'].str.replace(',', '').astype(float)\n",
    "scaler = MinMaxScaler(feature_range=(0, 1))\n",
    "scaled_data = scaler.fit_transform(data['Close'].values.reshape(-1, 1))\n",
    "\n",
    "# Define function to create dataset\n",
    "def create_dataset(data, time_step):\n",
    "    X, y = [], []\n",
    "    for i in range(len(data)-time_step-1):\n",
    "        X.append(data[i:(i+time_step), 0])\n",
    "        y.append(data[i + time_step, 0])\n",
    "    return np.array(X), np.array(y)\n",
    "\n",
    "# Hyperparameters\n",
    "time_step = 100\n",
    "# Create dataset\n",
    "X, y = create_dataset(scaled_data, time_step)\n",
    "# Reshape input to be [samples, time steps, features]\n",
    "X = X.reshape(X.shape[0], X.shape[1], 1)\n",
    "\n",
    "# Split data into train and test sets\n",
    "train_size = int(len(scaled_data) * 0.7)\n",
    "test_size = len(scaled_data) - train_size\n",
    "train_X, test_X = X[0:train_size], X[train_size:len(X)]\n",
    "train_y, test_y = y[0:train_size], y[train_size:len(y)]\n",
    "\n",
    "# Build LSTM model\n",
    "model = Sequential()\n",
    "model.add(LSTM(units=50, return_sequences=True, input_shape=(time_step, 1)))\n",
    "model.add(LSTM(units=50))\n",
    "model.add(Dense(units=1))\n",
    "\n",
    "# Compile model\n",
    "model.compile(optimizer='adam', loss='mean_squared_error')\n",
    "\n",
    "# Train model\n",
    "model.fit(train_X, train_y, epochs=100, batch_size=64)\n",
    "\n",
    "# Predictions\n",
    "predictions = model.predict(test_X)\n",
    "predictions = scaler.inverse_transform(predictions)\n",
    "\n",
    "# Evaluate model\n",
    "rmse = np.sqrt(mean_squared_error(test_y, predictions))\n",
    "print(\"RMSE:\", rmse)\n",
    "\n",
    "# Visualize results\n",
    "plt.plot(data['Date'][-len(predictions):], test_y, color='blue', label='Actual Price')\n",
    "plt.plot(data['Date'][-len(predictions):], predictions, color='red', label='Predicted Price')\n",
    "plt.xlabel('Date')\n",
    "plt.ylabel('Price')\n",
    "plt.title('Google Stock Price Prediction')\n",
    "plt.legend()\n",
    "plt.show()\n"
   ]
  },
  {
   "cell_type": "code",
   "execution_count": null,
   "metadata": {
    "id": "quq9B5WlvrMT"
   },
   "outputs": [],
   "source": []
  }
 ],
 "metadata": {
  "colab": {
   "authorship_tag": "ABX9TyNorSHkzOVrCP87If8MWIbb",
   "provenance": []
  },
  "kernelspec": {
   "display_name": "Python 3 (ipykernel)",
   "language": "python",
   "name": "python3"
  },
  "language_info": {
   "codemirror_mode": {
    "name": "ipython",
    "version": 3
   },
   "file_extension": ".py",
   "mimetype": "text/x-python",
   "name": "python",
   "nbconvert_exporter": "python",
   "pygments_lexer": "ipython3",
   "version": "3.10.1"
  }
 },
 "nbformat": 4,
 "nbformat_minor": 1
}
